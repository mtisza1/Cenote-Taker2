{
 "cells": [
  {
   "cell_type": "code",
   "execution_count": 9,
   "metadata": {},
   "outputs": [],
   "source": [
    "import os\n",
    "import sys\n",
    "import pandas as pd\n",
    "import math\n",
    "import re\n",
    "import numpy as np\n",
    "from Bio import SeqIO\n",
    "from Bio.Seq import Seq\n",
    "from Bio.SeqRecord import SeqRecord"
   ]
  },
  {
   "cell_type": "markdown",
   "metadata": {},
   "source": [
    "Making summary file(s) for Cenote-Taker"
   ]
  },
  {
   "cell_type": "code",
   "execution_count": 10,
   "metadata": {},
   "outputs": [],
   "source": [
    "# length/repeat file\n",
    "length_table = \"/Users/u241374/mike_tisza/sandbox/test0811d/ct2_tmp/hallmark_contigs_terminal_repeat_summary.tsv\"\n",
    "# ct name/original name file\n",
    "name_table = \"/Users/u241374/mike_tisza/sandbox/test0811d/ct2_tmp/contig_name_map.tsv\"\n",
    "# gene to contig file\n",
    "gene_to_contig_table = \"/Users/u241374/mike_tisza/sandbox/test0811d/final_genes_to_contigs_annotation_summary.tsv\"\n",
    "# taxonomy file\n",
    "tax_table = \"/Users/u241374/mike_tisza/sandbox/test0811d/ct2_tmp/final_taxonomy/virus_taxonomy_summary.tsv\"\n",
    "\n",
    "sequin_dir = \"/Users/u241374/mike_tisza/sandbox/test0811d/sequin_and_genome_maps\"\n"
   ]
  },
  {
   "cell_type": "code",
   "execution_count": 14,
   "metadata": {},
   "outputs": [],
   "source": [
    "main_annot_df = pd.read_csv(gene_to_contig_table, sep = \"\\t\")\n",
    "\n",
    "length_df = pd.read_csv(length_table, sep = \"\\t\")\n",
    "\n",
    "name_df = pd.read_csv(name_table, sep = \"\\t\", names=['contig', 'input_name'])\n",
    "\n",
    "tax_df = pd.read_csv(tax_table, sep = \"\\t\")\n"
   ]
  },
  {
   "cell_type": "code",
   "execution_count": 16,
   "metadata": {},
   "outputs": [],
   "source": [
    "merge_df = pd.merge(main_annot_df, length_df, on = [\"contig\", \"dtr_seq\"], how = \"left\")\n",
    "\n",
    "merge_df = pd.merge(merge_df, name_df, on = \"contig\", how = \"left\")\n",
    "\n",
    "merge_df = pd.merge(merge_df, tax_df, on = [\"contig\", \"chunk_name\"], how = \"left\")\n",
    "\n",
    "\n",
    "merge_df['taxon'] = merge_df['taxon'].fillna(\"unclassified virus\")\n",
    "\n"
   ]
  },
  {
   "cell_type": "code",
   "execution_count": 17,
   "metadata": {},
   "outputs": [
    {
     "data": {
      "text/plain": [
       "Index(['contig', 'gene_name', 'gene_orient', 'gene_start', 'gene_stop',\n",
       "       'contig_length', 'dtr_seq', 'evidence_acession', 'evidence_description',\n",
       "       'Evidence_source', 'vscore_category', 'chunk_name', 'chunk_length',\n",
       "       'chunk_start', 'chunk_stop', 'in_length_contig', 'out_length_contig',\n",
       "       'itr_seq', 'input_name', 'taxon', 'taxonomy_hierarchy', 'taxon_level',\n",
       "       'avg_hallmark_AAI_to_ref'],\n",
       "      dtype='object')"
      ]
     },
     "execution_count": 17,
     "metadata": {},
     "output_type": "execute_result"
    }
   ],
   "source": [
    "merge_df.columns"
   ]
  },
  {
   "cell_type": "code",
   "execution_count": 18,
   "metadata": {},
   "outputs": [],
   "source": [
    "## parse fasta description\n",
    "\n",
    "finalseq_list = []\n",
    "for fsa in os.listdir(sequin_dir):\n",
    "    if fsa.endswith('.fsa'):\n",
    "        f = os.path.join(sequin_dir, fsa)\n",
    "\n",
    "        if os.path.isfile(f) and os.path.getsize(f) > 0:\n",
    "            finalseq_list.append(f)\n",
    "\n",
    "if not finalseq_list:\n",
    "    print(\"no files found for seqIO parse \" + str(sequin_dir))\n",
    "    exit\n",
    "\n",
    "\n",
    "desc_list = []\n",
    "for seq_file in finalseq_list:\n",
    "    seq_record = SeqIO.read(seq_file, \"fasta\")\n",
    "    try:\n",
    "        if \"@\" in seq_record.id:\n",
    "            contig = seq_record.id.split(\"@\")[0]\n",
    "            chunkq = seq_record.id.split(\"@\")[1]\n",
    "        else:\n",
    "            contig = seq_record.id\n",
    "            chunkq = None\n",
    "        fields = re.findall(r'\\[.*?\\]', seq_record.description)\n",
    "        organism = re.search(r'\\[organism=(.*?)\\]', fields[0]).group(1)\n",
    "        gcode = re.search(r'\\[gcode=(.*?)\\]', fields[1]).group(1)\n",
    "        desc_list.append([contig, chunkq, organism, gcode])\n",
    "    except:\n",
    "        print(\"except\")\n",
    "\n",
    "desc_df = pd.DataFrame(desc_list, columns=[\"contig\", \"chunk_name\", \"organism\", \"genetic_code\"])\n"
   ]
  },
  {
   "cell_type": "code",
   "execution_count": 19,
   "metadata": {},
   "outputs": [
    {
     "name": "stdout",
     "output_type": "stream",
     "text": [
      "            contig chunk_name                    organism genetic_code\n",
      "0   test0811d_1724       None     Winoviridae sp. ctTYXNQ           11\n",
      "1   test0811d_2007       None  Caudoviricetes sp. ctIEOEM           11\n",
      "2   test0811d_6316       None  Caudoviricetes sp. ctIG6WX           11\n",
      "3   test0811d_3192    Chunk_0  Caudoviricetes sp. ct7P3DF           11\n",
      "4   test0811d_1690       None  Caudoviricetes sp. ct45KJK           11\n",
      "..             ...        ...                         ...          ...\n",
      "76  test0811d_1675       None  Caudoviricetes sp. ct5Z7DX           11\n",
      "77  test0811d_1339       None    Peduoviridae sp. ctKRX8H           11\n",
      "78  test0811d_5360       None  Caudoviricetes sp. ctXL5I9           11\n",
      "79  test0811d_1853       None  Caudoviricetes sp. ctK7K2C           11\n",
      "80  test0811d_6279       None  Caudoviricetes sp. ctN4FSD           11\n",
      "\n",
      "[81 rows x 4 columns]\n"
     ]
    }
   ],
   "source": [
    "print(desc_df)"
   ]
  },
  {
   "cell_type": "code",
   "execution_count": null,
   "metadata": {},
   "outputs": [],
   "source": [
    "print(merge_df[['contig','chunk_name']])"
   ]
  },
  {
   "cell_type": "code",
   "execution_count": 20,
   "metadata": {},
   "outputs": [],
   "source": [
    "org_info_df = pd.merge(merge_df, desc_df, on = [\"contig\", \"chunk_name\"], how = \"left\")\n"
   ]
  },
  {
   "cell_type": "code",
   "execution_count": 21,
   "metadata": {},
   "outputs": [
    {
     "data": {
      "text/plain": [
       "Index(['contig', 'gene_name', 'gene_orient', 'gene_start', 'gene_stop',\n",
       "       'contig_length', 'dtr_seq', 'evidence_acession', 'evidence_description',\n",
       "       'Evidence_source', 'vscore_category', 'chunk_name', 'chunk_length',\n",
       "       'chunk_start', 'chunk_stop', 'in_length_contig', 'out_length_contig',\n",
       "       'itr_seq', 'input_name', 'taxon', 'taxonomy_hierarchy', 'taxon_level',\n",
       "       'avg_hallmark_AAI_to_ref', 'organism', 'genetic_code'],\n",
       "      dtype='object')"
      ]
     },
     "execution_count": 21,
     "metadata": {},
     "output_type": "execute_result"
    }
   ],
   "source": [
    "org_info_df.columns"
   ]
  },
  {
   "cell_type": "code",
   "execution_count": null,
   "metadata": {},
   "outputs": [],
   "source": [
    "def summarize_ct(x):\n",
    "    ds = {}\n",
    "    ds['gene_count'] = x['gene_name'].nunique()\n",
    "    ds['hallmark_count'] = x.query(\"Evidence_source = 'hallmark_hmm'\")['gene_name'].nunique()\n",
    "    return pd.Series(ds, index=['gene_count', 'hallmark_count'])\n",
    "\n",
    "def hm_count(x):\n",
    "    return x.value_counts()['hallmark_hmm']\n",
    "\n",
    "org_info_df.groupby(['contig', 'contig_length', 'dtr_seq', 'chunk_name', 'chunk_length',\n",
    "                     'itr_seq', 'input_name', 'taxon', 'taxonomy_hierarchy', 'taxon_level',\n",
    "                     'avg_hallmark_AAI_to_ref', 'organism', 'genetic_code'], dropna = False)\\\n",
    "                     .agg(gene_count=('gene_name', 'nunique'),\n",
    "                          hallmark_count=('Evidence_source', 'hm_count')).reset_index()\n",
    "                     #.apply(summarize_ct).reset_index()"
   ]
  },
  {
   "cell_type": "code",
   "execution_count": 48,
   "metadata": {},
   "outputs": [
    {
     "data": {
      "text/plain": [
       "pandas.core.series.Series"
      ]
     },
     "execution_count": 48,
     "metadata": {},
     "output_type": "execute_result"
    }
   ],
   "source": [
    "type(org_info_df['contig'])"
   ]
  },
  {
   "cell_type": "code",
   "execution_count": 73,
   "metadata": {},
   "outputs": [],
   "source": [
    "grouped_df = org_info_df.groupby(['contig', 'contig_length', 'dtr_seq', 'chunk_name', 'chunk_length',\n",
    "                     'itr_seq', 'input_name', 'taxon', 'taxonomy_hierarchy', 'taxon_level',\n",
    "                     'avg_hallmark_AAI_to_ref', 'organism', 'genetic_code'], dropna = False)\n",
    "\n",
    "summary_list = []\n",
    "for name, group in grouped_df:\n",
    "    gene_count = group['gene_name'].nunique()\n",
    "    hallmark_count = group.query(\"Evidence_source == 'hallmark_hmm'\")['gene_name'].nunique()\n",
    "    hallmark_list = '|'.join(\n",
    "        list(group.query(\"Evidence_source == 'hallmark_hmm'\")['evidence_description'])\n",
    "        ).replace(\"-\", \" \")\n",
    "    if name[2]:\n",
    "        end_type = \"DTR\"\n",
    "    elif name[5]:\n",
    "        end_type = \"ITR\"\n",
    "    else:\n",
    "        end_type = \"None\"\n",
    "        \n",
    "    if gene_count >= 1:\n",
    "        summary_list.append([name[0], name[6], name[11], name[1], end_type, gene_count, hallmark_count, hallmark_list, name[8]])\n",
    "\n",
    "summary_df = pd.DataFrame(summary_list, columns=['contig', 'input_name', 'organism', 'contig_length', 'end_feature', 'gene_count', 'hallmark_count', 'hallmark_genes', 'taxonomy_hierarchy'])"
   ]
  }
 ],
 "metadata": {
  "kernelspec": {
   "display_name": "ct2_dev",
   "language": "python",
   "name": "python3"
  },
  "language_info": {
   "codemirror_mode": {
    "name": "ipython",
    "version": 3
   },
   "file_extension": ".py",
   "mimetype": "text/x-python",
   "name": "python",
   "nbconvert_exporter": "python",
   "pygments_lexer": "ipython3",
   "version": "3.11.4"
  },
  "orig_nbformat": 4
 },
 "nbformat": 4,
 "nbformat_minor": 2
}
