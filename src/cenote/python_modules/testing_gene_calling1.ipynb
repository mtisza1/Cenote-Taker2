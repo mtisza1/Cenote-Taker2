{
 "cells": [
  {
   "cell_type": "code",
   "execution_count": 37,
   "metadata": {},
   "outputs": [],
   "source": [
    "from Bio import SeqIO\n",
    "from Bio.Seq import Seq\n",
    "from Bio.SeqRecord import SeqRecord\n",
    "from Bio.SeqFeature import SeqFeature, FeatureLocation\n",
    "import subprocess\n",
    "import os\n",
    "import pyhmmer\n",
    "from pyhmmer import hmmscan as hmmscan\n",
    "import pyrodigal\n",
    "import pandas as pd"
   ]
  },
  {
   "cell_type": "code",
   "execution_count": 4,
   "metadata": {},
   "outputs": [
    {
     "name": "stdout",
     "output_type": "stream",
     "text": [
      "CPU times: user 63.8 ms, sys: 5.76 ms, total: 69.5 ms\n",
      "Wall time: 68.8 ms\n"
     ]
    }
   ],
   "source": [
    "%%time\n",
    "\n",
    "input_file = \"/Users/michaeltisza/mike_tisza/github_repos/Cenote-Taker2/testcontigs_DNA_ct2.fasta\"\n",
    "\n",
    "orf_finder = pyrodigal.OrfFinder(meta = True)\n",
    "\n",
    "for record in SeqIO.parse(input_file, \"fasta\"):\n",
    "    for i, pred in enumerate(orf_finder.find_genes(bytes(record.seq))):\n",
    "        print(f\">{record.id}_{i+1}\", file = open(\"/Users/michaeltisza/mike_tisza/sandbox/ct2_test2.faa\", \"a\"))\n",
    "        print(pred.translate(), file = open(\"/Users/michaeltisza/mike_tisza/sandbox/ct2_test2.faa\", \"a\"))\n",
    "\n",
    "\n",
    "#genes = orf_finder.find_genes(record)\n",
    "\n"
   ]
  },
  {
   "cell_type": "code",
   "execution_count": 5,
   "metadata": {},
   "outputs": [
    {
     "name": "stdout",
     "output_type": "stream",
     "text": [
      "CPU times: user 1min 44s, sys: 5.13 s, total: 1min 49s\n",
      "Wall time: 39.5 s\n"
     ]
    }
   ],
   "source": [
    "%%time\n",
    "\n",
    "with pyhmmer.easel.SequenceFile(\"/Users/michaeltisza/mike_tisza/sandbox/ct2_test2.faa\", digital=True) as seq_file:\n",
    "    AAsequences = seq_file.read_block()\n",
    "\n",
    "\n",
    "\n",
    "tester_hmmout = list(hmmscan(AAsequences, \n",
    "                        pyhmmer.plan7.HMMFile(\"/Users/michaeltisza/mike_tisza/sandbox/virus_specific_baits_plus_missed6a\"), \n",
    "                        cpus=4))"
   ]
  },
  {
   "cell_type": "code",
   "execution_count": 15,
   "metadata": {},
   "outputs": [],
   "source": [
    "#%%time\n",
    "\n",
    "tester_hmmout = list(hmmscan(AAsequences, \n",
    "                        pyhmmer.plan7.HMMFile(\"/Users/michaeltisza/mike_tisza/sandbox/virus_specific_baits_plus_missed6a\"), \n",
    "                        cpus=10))"
   ]
  },
  {
   "cell_type": "code",
   "execution_count": 60,
   "metadata": {},
   "outputs": [],
   "source": [
    "#%%timeit\n",
    "\n",
    "hmmscan_list = []\n",
    "\n",
    "for model in tester_hmmout:\n",
    "    quer1 = model.query_name.decode()\n",
    "    for hit in model:\n",
    "        target_name = hit.name.decode()\n",
    "        target_acc = hit.accession\n",
    "        full_seq_evalue = \"%.2g\" % hit.evalue\n",
    "        hmmscan_list.append([quer1, target_name, full_seq_evalue])\n",
    "\n",
    "\n",
    "hmmscan_df = pd.DataFrame(hmmscan_list, columns=[\"query\", \"target\", \"evalue\"])\\\n",
    "    .sort_values('evalue').drop_duplicates('query')"
   ]
  },
  {
   "cell_type": "code",
   "execution_count": null,
   "metadata": {},
   "outputs": [],
   "source": [
    "AA2 = SeqRecord"
   ]
  }
 ],
 "metadata": {
  "kernelspec": {
   "display_name": "ct2_dev",
   "language": "python",
   "name": "python3"
  },
  "language_info": {
   "codemirror_mode": {
    "name": "ipython",
    "version": 3
   },
   "file_extension": ".py",
   "mimetype": "text/x-python",
   "name": "python",
   "nbconvert_exporter": "python",
   "pygments_lexer": "ipython3",
   "version": "3.11.4"
  },
  "orig_nbformat": 4
 },
 "nbformat": 4,
 "nbformat_minor": 2
}
