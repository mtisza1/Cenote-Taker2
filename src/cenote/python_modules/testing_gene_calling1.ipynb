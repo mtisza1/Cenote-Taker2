{
 "cells": [
  {
   "cell_type": "code",
   "execution_count": 2,
   "metadata": {},
   "outputs": [],
   "source": [
    "from Bio import SeqIO\n",
    "from Bio.Seq import Seq\n",
    "from Bio.SeqRecord import SeqRecord\n",
    "from Bio.SeqFeature import SeqFeature, FeatureLocation\n",
    "import subprocess\n",
    "import os\n",
    "import pyhmmer\n",
    "from pyhmmer import hmmscan as hmmscan\n",
    "import pyrodigal\n",
    "import pandas as pd\n",
    "import multiprocessing.pool\n",
    "import math"
   ]
  },
  {
   "cell_type": "code",
   "execution_count": 20,
   "metadata": {},
   "outputs": [
    {
     "name": "stdout",
     "output_type": "stream",
     "text": [
      "CPU times: user 46.9 s, sys: 6.7 s, total: 53.6 s\n",
      "Wall time: 56.5 s\n"
     ]
    }
   ],
   "source": [
    "%%time\n",
    "'%%system top -b -n 1 | grep Cpu'\n",
    "#%%system free -m\n",
    "\n",
    "input_file = \"/Users/u241374/mike_tisza/sandbox/SRS893334.fna\"\n",
    "\n",
    "output_file = \"/Users/u241374/mike_tisza/sandbox/ct2_test2.faa\"\n",
    "\n",
    "\n",
    "if os.path.isfile(output_file):\n",
    "    os.remove(output_file)\n",
    "\n",
    "orf_finder = pyrodigal.OrfFinder(meta = True)\n",
    "\n",
    "\n",
    "for record in SeqIO.parse(input_file, \"fasta\"):\n",
    "    for i, pred in enumerate(orf_finder.find_genes(bytes(record.seq))):\n",
    "        print(f\">{record.id}_{i+1}\", file = open(output_file, \"a\"))\n",
    "        print(pred.translate(), file = open(output_file, \"a\"))\n",
    "        \n"
   ]
  },
  {
   "cell_type": "code",
   "execution_count": 36,
   "metadata": {},
   "outputs": [
    {
     "name": "stderr",
     "output_type": "stream",
     "text": [
      "\u001b[33m[WARN]\u001b[0m outdir not empty: /Users/u241374/mike_tisza/sandbox/temp2, you can use --force to overwrite\n",
      "[INFO]\u001b[0m split into 12 parts\n",
      "[INFO]\u001b[0m read sequences ...\n",
      "[INFO]\u001b[0m read 44759 sequences\n",
      "[INFO]\u001b[0m write 3730 sequences to file: /Users/u241374/mike_tisza/sandbox/temp2/SRS893334.part_001.fna\n",
      "[INFO]\u001b[0m write 3730 sequences to file: /Users/u241374/mike_tisza/sandbox/temp2/SRS893334.part_002.fna\n",
      "[INFO]\u001b[0m write 3730 sequences to file: /Users/u241374/mike_tisza/sandbox/temp2/SRS893334.part_003.fna\n",
      "[INFO]\u001b[0m write 3730 sequences to file: /Users/u241374/mike_tisza/sandbox/temp2/SRS893334.part_004.fna\n",
      "[INFO]\u001b[0m write 3730 sequences to file: /Users/u241374/mike_tisza/sandbox/temp2/SRS893334.part_005.fna\n",
      "[INFO]\u001b[0m write 3730 sequences to file: /Users/u241374/mike_tisza/sandbox/temp2/SRS893334.part_006.fna\n",
      "[INFO]\u001b[0m write 3730 sequences to file: /Users/u241374/mike_tisza/sandbox/temp2/SRS893334.part_007.fna\n",
      "[INFO]\u001b[0m write 3730 sequences to file: /Users/u241374/mike_tisza/sandbox/temp2/SRS893334.part_008.fna\n",
      "[INFO]\u001b[0m write 3730 sequences to file: /Users/u241374/mike_tisza/sandbox/temp2/SRS893334.part_009.fna\n",
      "[INFO]\u001b[0m write 3730 sequences to file: /Users/u241374/mike_tisza/sandbox/temp2/SRS893334.part_010.fna\n",
      "[INFO]\u001b[0m write 3730 sequences to file: /Users/u241374/mike_tisza/sandbox/temp2/SRS893334.part_011.fna\n",
      "[INFO]\u001b[0m write 3729 sequences to file: /Users/u241374/mike_tisza/sandbox/temp2/SRS893334.part_012.fna\n"
     ]
    },
    {
     "ename": "KeyboardInterrupt",
     "evalue": "",
     "output_type": "error",
     "traceback": [
      "\u001b[0;31m---------------------------------------------------------------------------\u001b[0m",
      "\u001b[0;31mKeyboardInterrupt\u001b[0m                         Traceback (most recent call last)",
      "File \u001b[0;32m<timed exec>:40\u001b[0m\n",
      "File \u001b[0;32m~/miniconda3/envs/ct2_dev/lib/python3.11/multiprocessing/pool.py:367\u001b[0m, in \u001b[0;36mPool.map\u001b[0;34m(self, func, iterable, chunksize)\u001b[0m\n\u001b[1;32m    362\u001b[0m \u001b[39mdef\u001b[39;00m \u001b[39mmap\u001b[39m(\u001b[39mself\u001b[39m, func, iterable, chunksize\u001b[39m=\u001b[39m\u001b[39mNone\u001b[39;00m):\n\u001b[1;32m    363\u001b[0m \u001b[39m    \u001b[39m\u001b[39m'''\u001b[39;00m\n\u001b[1;32m    364\u001b[0m \u001b[39m    Apply `func` to each element in `iterable`, collecting the results\u001b[39;00m\n\u001b[1;32m    365\u001b[0m \u001b[39m    in a list that is returned.\u001b[39;00m\n\u001b[1;32m    366\u001b[0m \u001b[39m    '''\u001b[39;00m\n\u001b[0;32m--> 367\u001b[0m     \u001b[39mreturn\u001b[39;00m \u001b[39mself\u001b[39;49m\u001b[39m.\u001b[39;49m_map_async(func, iterable, mapstar, chunksize)\u001b[39m.\u001b[39;49mget()\n",
      "File \u001b[0;32m~/miniconda3/envs/ct2_dev/lib/python3.11/multiprocessing/pool.py:768\u001b[0m, in \u001b[0;36mApplyResult.get\u001b[0;34m(self, timeout)\u001b[0m\n\u001b[1;32m    767\u001b[0m \u001b[39mdef\u001b[39;00m \u001b[39mget\u001b[39m(\u001b[39mself\u001b[39m, timeout\u001b[39m=\u001b[39m\u001b[39mNone\u001b[39;00m):\n\u001b[0;32m--> 768\u001b[0m     \u001b[39mself\u001b[39;49m\u001b[39m.\u001b[39;49mwait(timeout)\n\u001b[1;32m    769\u001b[0m     \u001b[39mif\u001b[39;00m \u001b[39mnot\u001b[39;00m \u001b[39mself\u001b[39m\u001b[39m.\u001b[39mready():\n\u001b[1;32m    770\u001b[0m         \u001b[39mraise\u001b[39;00m \u001b[39mTimeoutError\u001b[39;00m\n",
      "File \u001b[0;32m~/miniconda3/envs/ct2_dev/lib/python3.11/multiprocessing/pool.py:765\u001b[0m, in \u001b[0;36mApplyResult.wait\u001b[0;34m(self, timeout)\u001b[0m\n\u001b[1;32m    764\u001b[0m \u001b[39mdef\u001b[39;00m \u001b[39mwait\u001b[39m(\u001b[39mself\u001b[39m, timeout\u001b[39m=\u001b[39m\u001b[39mNone\u001b[39;00m):\n\u001b[0;32m--> 765\u001b[0m     \u001b[39mself\u001b[39;49m\u001b[39m.\u001b[39;49m_event\u001b[39m.\u001b[39;49mwait(timeout)\n",
      "File \u001b[0;32m~/miniconda3/envs/ct2_dev/lib/python3.11/threading.py:622\u001b[0m, in \u001b[0;36mEvent.wait\u001b[0;34m(self, timeout)\u001b[0m\n\u001b[1;32m    620\u001b[0m signaled \u001b[39m=\u001b[39m \u001b[39mself\u001b[39m\u001b[39m.\u001b[39m_flag\n\u001b[1;32m    621\u001b[0m \u001b[39mif\u001b[39;00m \u001b[39mnot\u001b[39;00m signaled:\n\u001b[0;32m--> 622\u001b[0m     signaled \u001b[39m=\u001b[39m \u001b[39mself\u001b[39;49m\u001b[39m.\u001b[39;49m_cond\u001b[39m.\u001b[39;49mwait(timeout)\n\u001b[1;32m    623\u001b[0m \u001b[39mreturn\u001b[39;00m signaled\n",
      "File \u001b[0;32m~/miniconda3/envs/ct2_dev/lib/python3.11/threading.py:320\u001b[0m, in \u001b[0;36mCondition.wait\u001b[0;34m(self, timeout)\u001b[0m\n\u001b[1;32m    318\u001b[0m \u001b[39mtry\u001b[39;00m:    \u001b[39m# restore state no matter what (e.g., KeyboardInterrupt)\u001b[39;00m\n\u001b[1;32m    319\u001b[0m     \u001b[39mif\u001b[39;00m timeout \u001b[39mis\u001b[39;00m \u001b[39mNone\u001b[39;00m:\n\u001b[0;32m--> 320\u001b[0m         waiter\u001b[39m.\u001b[39;49macquire()\n\u001b[1;32m    321\u001b[0m         gotit \u001b[39m=\u001b[39m \u001b[39mTrue\u001b[39;00m\n\u001b[1;32m    322\u001b[0m     \u001b[39melse\u001b[39;00m:\n",
      "\u001b[0;31mKeyboardInterrupt\u001b[0m: "
     ]
    }
   ],
   "source": [
    "%%time\n",
    "'%%system top -b -n 1 | grep Cpu'\n",
    "#%%system free -m\n",
    "### https://portal.hmpdacc.org/files/54a24ca84a57a7d5b06687939f5f91ac\n",
    "\n",
    "input_file = \"/Users/u241374/mike_tisza/sandbox/SRS893334.fna\"\n",
    "\n",
    "output_file = \"/Users/u241374/mike_tisza/sandbox/ct2_test.pool3.faa\"\n",
    "\n",
    "out_dir = '/Users/u241374/mike_tisza/sandbox/temp2'\n",
    "\n",
    "if not os.path.isdir(out_dir):\n",
    "    os.makedirs(out_dir)\n",
    "\n",
    "mycpus = os.cpu_count()\n",
    "\n",
    "#tempdir = argv[2]\n",
    "\n",
    "subprocess.run(['seqkit', 'split', '-j', str(mycpus), '-p', str(mycpus), '-O', str(out_dir), '-o', 'ct2_test2_spl.fna', str(input_file)])\n",
    "\n",
    "\n",
    "\n",
    "splitFNA_list = []\n",
    "for splitFNA in os.listdir(out_dir):\n",
    "    if splitFNA.endswith('.fna'):\n",
    "        f = os.path.join(out_dir, splitFNA)\n",
    "\n",
    "        if os.path.isfile(f):\n",
    "            splitFNA_list.append(f)\n",
    "\n",
    "\n",
    "def ORFERo(contigs):\n",
    "    AAf1 = re.sub(\".fna$\", \"_hmmscan.faa\", contigs)\n",
    "\n",
    "    for record in SeqIO.parse(contigs, \"fasta\"):\n",
    "        for i, pred in enumerate(orf_finder.find_genes(bytes(record.seq))):\n",
    "            print(f\">{record.id}_{i+1}\", file = open(AAf1, \"a\"))\n",
    "            print(pred.translate(), file = open(AAf1, \"a\"))\n",
    "\n",
    "with multiprocessing.pool.ThreadPool() as pool:\n",
    "    pool.map(ORFERo, splitFNA_list)\n",
    "\n",
    "\n",
    "#with multiprocessing.pool.ThreadPool() as pool:\n",
    "#    for alignments in pool.map(hmmscanner, splitAA_list):"
   ]
  },
  {
   "cell_type": "code",
   "execution_count": 17,
   "metadata": {},
   "outputs": [
    {
     "name": "stdout",
     "output_type": "stream",
     "text": [
      "/Users/u241374/mike_tisza/sandbox/SRS893334.faa\n"
     ]
    }
   ],
   "source": [
    "import re\n",
    "input_file = \"/Users/u241374/mike_tisza/sandbox/SRS893334.fna\"\n",
    "\n",
    "pyrodigal_output_file = re.sub(\".fna$\", \".faa\", input_file)\n",
    "\n",
    "print(pyrodigal_output_file)"
   ]
  },
  {
   "cell_type": "markdown",
   "metadata": {},
   "source": [
    "OLD WAY OF RUNNING PYHMMER:\n",
    "\n",
    "%%time\n",
    "\n",
    "hmm_db_virion = \"/Users/u241374/mike_tisza/cmmr_repos/Cenote-Taker2/hmmscan_DBs/virus_specific_baits_plus_missed6a.h3m\"\n",
    "\n",
    "with pyhmmer.easel.SequenceFile(output_file, digital=True) as seq_file:\n",
    "    AAsequences = seq_file.read_block()\n",
    "\n",
    "\n",
    "\n",
    "tester_hmmout = list(hmmscan(AAsequences, \n",
    "                        pyhmmer.plan7.HMMFile(hmm_db_virion), \n",
    "                        cpus=5))"
   ]
  },
  {
   "cell_type": "code",
   "execution_count": 10,
   "metadata": {},
   "outputs": [
    {
     "name": "stderr",
     "output_type": "stream",
     "text": [
      "\u001b[33m[WARN]\u001b[0m outdir not empty: /Users/u241374/mike_tisza/sandbox/temp, you can use --force to overwrite\n",
      "[INFO]\u001b[0m split into 12 parts\n",
      "[INFO]\u001b[0m read sequences ...\n",
      "[INFO]\u001b[0m read 49934 sequences\n",
      "[INFO]\u001b[0m write 4162 sequences to file: /Users/u241374/mike_tisza/sandbox/temp/ct2_test2.part_001.faa\n",
      "[INFO]\u001b[0m write 4162 sequences to file: /Users/u241374/mike_tisza/sandbox/temp/ct2_test2.part_002.faa\n",
      "[INFO]\u001b[0m write 4162 sequences to file: /Users/u241374/mike_tisza/sandbox/temp/ct2_test2.part_003.faa\n",
      "[INFO]\u001b[0m write 4162 sequences to file: /Users/u241374/mike_tisza/sandbox/temp/ct2_test2.part_004.faa\n",
      "[INFO]\u001b[0m write 4162 sequences to file: /Users/u241374/mike_tisza/sandbox/temp/ct2_test2.part_005.faa\n",
      "[INFO]\u001b[0m write 4162 sequences to file: /Users/u241374/mike_tisza/sandbox/temp/ct2_test2.part_006.faa\n",
      "[INFO]\u001b[0m write 4162 sequences to file: /Users/u241374/mike_tisza/sandbox/temp/ct2_test2.part_007.faa\n",
      "[INFO]\u001b[0m write 4162 sequences to file: /Users/u241374/mike_tisza/sandbox/temp/ct2_test2.part_008.faa\n",
      "[INFO]\u001b[0m write 4162 sequences to file: /Users/u241374/mike_tisza/sandbox/temp/ct2_test2.part_009.faa\n",
      "[INFO]\u001b[0m write 4162 sequences to file: /Users/u241374/mike_tisza/sandbox/temp/ct2_test2.part_010.faa\n",
      "[INFO]\u001b[0m write 4162 sequences to file: /Users/u241374/mike_tisza/sandbox/temp/ct2_test2.part_011.faa\n",
      "[INFO]\u001b[0m write 4152 sequences to file: /Users/u241374/mike_tisza/sandbox/temp/ct2_test2.part_012.faa\n"
     ]
    },
    {
     "data": {
      "text/plain": [
       "CompletedProcess(args=['seqkit', 'split', '-j', '12', '-p', '12', '-O', '/Users/u241374/mike_tisza/sandbox/temp', '-o', 'ct2_test2_hmmscan.faa', '/Users/u241374/mike_tisza/sandbox/ct2_test2.faa'], returncode=0)"
      ]
     },
     "execution_count": 10,
     "metadata": {},
     "output_type": "execute_result"
    }
   ],
   "source": [
    "output_file = \"/Users/u241374/mike_tisza/sandbox/ct2_test2.faa\"\n",
    "\n",
    "mycpus = os.cpu_count()\n",
    "\n",
    "#tempdir = argv[2]\n",
    "\n",
    "subprocess.run(['seqkit', 'split', '-j', str(mycpus), '-p', str(mycpus), '-O', '/Users/u241374/mike_tisza/sandbox/temp', '-o', 'ct2_test2_hmmscan.faa', str(output_file)])"
   ]
  },
  {
   "cell_type": "code",
   "execution_count": 3,
   "metadata": {},
   "outputs": [
    {
     "name": "stdout",
     "output_type": "stream",
     "text": [
      "CPU times: user 26min 39s, sys: 57.4 s, total: 27min 36s\n",
      "Wall time: 2min 50s\n"
     ]
    }
   ],
   "source": [
    "%%time\n",
    "\n",
    "hmm_db_virion = \"/Users/u241374/mike_tisza/cmmr_repos/Cenote-Taker2/hmmscan_DBs/virus_specific_baits_plus_missed6a.h3m\"\n",
    "\n",
    "\n",
    "def hmmscanner(seqs):\n",
    "    scanout = list(hmmscan(pyhmmer.easel.SequenceFile(seqs, digital=True), pyhmmer.plan7.HMMFile(hmm_db_virion)))\n",
    "    return scanout\n",
    "\n",
    "\n",
    "\n",
    "splitAA_list = []\n",
    "for splitAA in os.listdir(\"/Users/u241374/mike_tisza/sandbox/temp\"):\n",
    "    if splitAA.endswith('.faa'):\n",
    "        f = os.path.join(\"/Users/u241374/mike_tisza/sandbox/temp\", splitAA)\n",
    "\n",
    "        if os.path.isfile(f):\n",
    "            splitAA_list.append(f)\n",
    "\n",
    "hmmscan_list = []\n",
    "with multiprocessing.pool.ThreadPool() as pool:\n",
    "    for alignments in pool.map(hmmscanner, splitAA_list):\n",
    "        for model in alignments:\n",
    "            quer1 = model.query_name.decode()\n",
    "            for hit in model:\n",
    "                target_name = hit.name.decode()\n",
    "                target_acc = hit.accession\n",
    "                full_seq_evalue = hit.evalue\n",
    "                seq_pvalue = hit.pvalue        \n",
    "                hmmscan_list.append([quer1, target_name, full_seq_evalue, seq_pvalue])\n",
    "\n",
    "hmmscan_pools_df = pd.DataFrame(hmmscan_list, columns=[\"query\", \"target\", \"evalue\", \"pvalue\"])\\\n",
    "    .sort_values('pvalue').drop_duplicates('query')"
   ]
  },
  {
   "cell_type": "code",
   "execution_count": 11,
   "metadata": {},
   "outputs": [],
   "source": [
    "hmmscan_pools_df[\"pos\"] = hmmscan_pools_df[\"query\"].str.rfind(\"_\")\n",
    "\n",
    "hmmscan_pools_df[\"contig\"] = hmmscan_pools_df.apply(lambda x: x['query'][0:x['pos']],axis=1)\n",
    "\n",
    "hmmscan_contig_sum = hmmscan_pools_df.groupby(\"contig\").size().reset_index(name='count')\n",
    "\n"
   ]
  },
  {
   "cell_type": "code",
   "execution_count": 6,
   "metadata": {},
   "outputs": [
    {
     "data": {
      "text/plain": [
       "8"
      ]
     },
     "execution_count": 6,
     "metadata": {},
     "output_type": "execute_result"
    }
   ],
   "source": [
    "str1=\"hel_ll_o_\"\n",
    "\n",
    "str1.rfind(\"_\")"
   ]
  },
  {
   "cell_type": "code",
   "execution_count": 22,
   "metadata": {},
   "outputs": [],
   "source": [
    "out_dir = \"hellow\"\n",
    "\n",
    "split_AA_outdir = os.path.join(out_dir, \"temp\")\n"
   ]
  }
 ],
 "metadata": {
  "kernelspec": {
   "display_name": "ct2_dev",
   "language": "python",
   "name": "python3"
  },
  "language_info": {
   "codemirror_mode": {
    "name": "ipython",
    "version": 3
   },
   "file_extension": ".py",
   "mimetype": "text/x-python",
   "name": "python",
   "nbconvert_exporter": "python",
   "pygments_lexer": "ipython3",
   "version": "3.11.4"
  },
  "orig_nbformat": 4
 },
 "nbformat": 4,
 "nbformat_minor": 2
}
