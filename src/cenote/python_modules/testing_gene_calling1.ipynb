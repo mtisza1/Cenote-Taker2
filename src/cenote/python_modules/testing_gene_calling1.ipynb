{
 "cells": [
  {
   "cell_type": "code",
   "execution_count": 7,
   "metadata": {},
   "outputs": [],
   "source": [
    "from Bio import SeqIO\n",
    "from Bio.Seq import Seq\n",
    "from Bio.SeqRecord import SeqRecord\n",
    "from Bio.SeqFeature import SeqFeature, FeatureLocation\n",
    "import subprocess\n",
    "import os\n",
    "import pyhmmer\n",
    "from pyhmmer import hmmscan as hmmscan\n",
    "import pyrodigal"
   ]
  },
  {
   "cell_type": "code",
   "execution_count": 28,
   "metadata": {},
   "outputs": [
    {
     "name": "stdout",
     "output_type": "stream",
     "text": [
      "63.8 ms ± 3.79 ms per loop (mean ± std. dev. of 7 runs, 10 loops each)\n"
     ]
    }
   ],
   "source": [
    "%%timeit\n",
    "\n",
    "input_file = \"/Users/u241374/mike_tisza/cmmr_repos/Cenote-Taker2/testcontigs_DNA_ct2.fasta\"\n",
    "\n",
    "orf_finder = pyrodigal.OrfFinder(meta = True)\n",
    "\n",
    "for record in SeqIO.parse(input_file, \"fasta\"):\n",
    "    for i, pred in enumerate(orf_finder.find_genes(bytes(record.seq))):\n",
    "        print(f\">{record.id}_{i+1}\", file = open(\"/Users/u241374/mike_tisza/sandbox/ct2_test2.faa\", \"a\"))\n",
    "        print(pred.translate(), file = open(\"/Users/u241374/mike_tisza/sandbox/ct2_test2.faa\", \"a\"))\n",
    "\n",
    "\n",
    "#genes = orf_finder.find_genes(record)\n",
    "\n"
   ]
  },
  {
   "cell_type": "code",
   "execution_count": 13,
   "metadata": {},
   "outputs": [],
   "source": [
    "\n",
    "with open(\"/Users/u241374/mike_tisza/sandbox/ct2_test.faa\", \"w\") as dst:\n",
    "    genes.write_translations(dst, sequence_id=\"mike\")"
   ]
  },
  {
   "cell_type": "code",
   "execution_count": 9,
   "metadata": {},
   "outputs": [
    {
     "ename": "TypeError",
     "evalue": "Unsupported query type for `hmmscan`: method",
     "output_type": "error",
     "traceback": [
      "\u001b[0;31m---------------------------------------------------------------------------\u001b[0m",
      "\u001b[0;31mTypeError\u001b[0m                                 Traceback (most recent call last)",
      "Cell \u001b[0;32mIn[9], line 3\u001b[0m\n\u001b[1;32m      1\u001b[0m \u001b[39m#print(genes.write_translations)\u001b[39;00m\n\u001b[0;32m----> 3\u001b[0m tester_hmmout \u001b[39m=\u001b[39m \u001b[39mlist\u001b[39;49m(hmmscan(genes\u001b[39m.\u001b[39;49mwrite_translations, \n\u001b[1;32m      4\u001b[0m                         pyhmmer\u001b[39m.\u001b[39;49mplan7\u001b[39m.\u001b[39;49mHMMFile(\u001b[39m\"\u001b[39;49m\u001b[39m/Users/u241374/mike_tisza/cmmr_repos/Cenote-Taker2/hmmscan_DBs/virus_specific_baits_plus_missed6a\u001b[39;49m\u001b[39m\"\u001b[39;49m), \n\u001b[1;32m      5\u001b[0m                         cpus\u001b[39m=\u001b[39;49m\u001b[39m4\u001b[39;49m))\n",
      "File \u001b[0;32m~/miniconda3/envs/ct2_dev/lib/python3.11/site-packages/pyhmmer/hmmer.py:489\u001b[0m, in \u001b[0;36m_BaseDispatcher._single_threaded\u001b[0;34m(self)\u001b[0m\n\u001b[1;32m    487\u001b[0m \u001b[39mfor\u001b[39;00m query \u001b[39min\u001b[39;00m \u001b[39mself\u001b[39m\u001b[39m.\u001b[39mqueries:\n\u001b[1;32m    488\u001b[0m     query_count\u001b[39m.\u001b[39mvalue \u001b[39m+\u001b[39m\u001b[39m=\u001b[39m \u001b[39m1\u001b[39m\n\u001b[0;32m--> 489\u001b[0m     \u001b[39myield\u001b[39;00m thread\u001b[39m.\u001b[39;49mprocess(query)\n\u001b[1;32m    491\u001b[0m \u001b[39m# close the targets if they were coming from a file\u001b[39;00m\n\u001b[1;32m    492\u001b[0m \u001b[39mif\u001b[39;00m \u001b[39misinstance\u001b[39m(thread\u001b[39m.\u001b[39mtargets, (SequenceFile, HMMPressedFile)):\n",
      "File \u001b[0;32m~/miniconda3/envs/ct2_dev/lib/python3.11/site-packages/pyhmmer/hmmer.py:232\u001b[0m, in \u001b[0;36m_BaseWorker.process\u001b[0;34m(self, query)\u001b[0m\n\u001b[1;32m    230\u001b[0m \u001b[39mif\u001b[39;00m \u001b[39misinstance\u001b[39m(\u001b[39mself\u001b[39m\u001b[39m.\u001b[39mtargets, (HMMPressedFile, SequenceFile)):\n\u001b[1;32m    231\u001b[0m     \u001b[39mself\u001b[39m\u001b[39m.\u001b[39mtargets\u001b[39m.\u001b[39mrewind()\n\u001b[0;32m--> 232\u001b[0m hits \u001b[39m=\u001b[39m \u001b[39mself\u001b[39;49m\u001b[39m.\u001b[39;49mquery(query)\n\u001b[1;32m    233\u001b[0m \u001b[39mself\u001b[39m\u001b[39m.\u001b[39mcallback(query, \u001b[39mself\u001b[39m\u001b[39m.\u001b[39mquery_count\u001b[39m.\u001b[39mvalue)  \u001b[39m# type: ignore\u001b[39;00m\n\u001b[1;32m    234\u001b[0m \u001b[39mself\u001b[39m\u001b[39m.\u001b[39mpipeline\u001b[39m.\u001b[39mclear()\n",
      "File \u001b[0;32m~/miniconda3/envs/ct2_dev/lib/python3.11/site-packages/pyhmmer/utils.py:70\u001b[0m, in \u001b[0;36msingledispatchmethod.__get__.<locals>._method\u001b[0;34m(*args, **kwargs)\u001b[0m\n\u001b[1;32m     68\u001b[0m \u001b[39mdef\u001b[39;00m \u001b[39m_method\u001b[39m(\u001b[39m*\u001b[39margs, \u001b[39m*\u001b[39m\u001b[39m*\u001b[39mkwargs):  \u001b[39m# type: ignore\u001b[39;00m\n\u001b[1;32m     69\u001b[0m     method \u001b[39m=\u001b[39m \u001b[39mself\u001b[39m\u001b[39m.\u001b[39mdispatcher\u001b[39m.\u001b[39mdispatch(args[\u001b[39m0\u001b[39m]\u001b[39m.\u001b[39m\u001b[39m__class__\u001b[39m)\n\u001b[0;32m---> 70\u001b[0m     \u001b[39mreturn\u001b[39;00m method\u001b[39m.\u001b[39;49m\u001b[39m__get__\u001b[39;49m(obj, \u001b[39mcls\u001b[39;49m)(\u001b[39m*\u001b[39;49margs, \u001b[39m*\u001b[39;49m\u001b[39m*\u001b[39;49mkwargs)\n",
      "File \u001b[0;32m~/miniconda3/envs/ct2_dev/lib/python3.11/site-packages/pyhmmer/hmmer.py:420\u001b[0m, in \u001b[0;36m_SCANWorker.query\u001b[0;34m(self, query)\u001b[0m\n\u001b[1;32m    418\u001b[0m \u001b[39m@singledispatchmethod\u001b[39m\n\u001b[1;32m    419\u001b[0m \u001b[39mdef\u001b[39;00m \u001b[39mquery\u001b[39m(\u001b[39mself\u001b[39m, query) \u001b[39m-\u001b[39m\u001b[39m>\u001b[39m TopHits:  \u001b[39m# type: ignore\u001b[39;00m\n\u001b[0;32m--> 420\u001b[0m     \u001b[39mraise\u001b[39;00m \u001b[39mTypeError\u001b[39;00m(\n\u001b[1;32m    421\u001b[0m         \u001b[39m\"\u001b[39m\u001b[39mUnsupported query type for `hmmscan`: \u001b[39m\u001b[39m{}\u001b[39;00m\u001b[39m\"\u001b[39m\u001b[39m.\u001b[39mformat(\u001b[39mtype\u001b[39m(query)\u001b[39m.\u001b[39m\u001b[39m__name__\u001b[39m)\n\u001b[1;32m    422\u001b[0m     )\n",
      "\u001b[0;31mTypeError\u001b[0m: Unsupported query type for `hmmscan`: method"
     ]
    }
   ],
   "source": [
    "#print(genes.write_translations)\n",
    "\n",
    "\n",
    "\n",
    "tester_hmmout = list(hmmscan(genes.write_translations, \n",
    "                        pyhmmer.plan7.HMMFile(\"/Users/u241374/mike_tisza/cmmr_repos/Cenote-Taker2/hmmscan_DBs/virus_specific_baits_plus_missed6a\"), \n",
    "                        cpus=4))"
   ]
  }
 ],
 "metadata": {
  "kernelspec": {
   "display_name": "ct2_dev",
   "language": "python",
   "name": "python3"
  },
  "language_info": {
   "codemirror_mode": {
    "name": "ipython",
    "version": 3
   },
   "file_extension": ".py",
   "mimetype": "text/x-python",
   "name": "python",
   "nbconvert_exporter": "python",
   "pygments_lexer": "ipython3",
   "version": "3.11.4"
  },
  "orig_nbformat": 4
 },
 "nbformat": 4,
 "nbformat_minor": 2
}
