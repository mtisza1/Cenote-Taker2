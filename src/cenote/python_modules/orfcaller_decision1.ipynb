{
 "cells": [
  {
   "cell_type": "code",
   "execution_count": 1,
   "metadata": {},
   "outputs": [],
   "source": [
    "import subprocess\n",
    "import os\n",
    "import sys\n",
    "import pyhmmer\n",
    "from pyhmmer import hmmscan as hmmscan\n",
    "import pandas as pd\n",
    "import multiprocessing.pool\n",
    "import math\n",
    "import re\n",
    "import time\n",
    "import numpy as np"
   ]
  },
  {
   "cell_type": "code",
   "execution_count": 3,
   "metadata": {},
   "outputs": [
    {
     "name": "stdout",
     "output_type": "stream",
     "text": [
      "mycontig_1234_1 13 mycontig_1234\n"
     ]
    }
   ],
   "source": [
    "quer1 = \"mycontig_1234_1\"\n",
    "pos = quer1.rfind(\"_\")\n",
    "contig = quer1[:pos]\n",
    "\n",
    "print(quer1, pos, contig)"
   ]
  },
  {
   "cell_type": "code",
   "execution_count": 23,
   "metadata": {},
   "outputs": [],
   "source": [
    "### process hallmark taxonomy for ORF calling\n",
    "\n",
    "mmseqs2_tax_table = \"/Users/michaeltisza/mike_tisza/sandbox/ct2_test_728e/ct2_tmp/hallmark_tax/orig_hallmarks_align.tsv\"\n",
    "\n",
    "tax_df = pd.read_csv(mmseqs2_tax_table, header = None, sep = \"\\t\",\n",
    "                     names = [\"query\",\"target\",\"pident\",\"alnlen\",\"evalue\",\"theader\",\"taxlineage\"])\\\n",
    "                     .sort_values('evalue').drop_duplicates('query').query(\"evalue <= 1e-3\")\n",
    "\n",
    "tax_df['ORFcaller'] = np.where(tax_df['taxlineage']\n",
    "                               .str.contains(\n",
    "                                   \"Crassvirales|Malgrandaviricetes|Tubulavirales|Leviviricetes|Duplopiviricetes|Kalamavirales|Vinavirales|Autolykiviridae\",\n",
    "                                   case = False), 'phanotate', 'prodigal')\n",
    "\n",
    "tax_df[\"pos\"] = tax_df[\"query\"].str.rfind(\"_\")\n",
    "\n",
    "tax_df[\"contig\"] = tax_df.apply(lambda x: x[\"query\"][0:x[\"pos\"]], axis = 1)\n",
    "\n",
    "ORFcaller_majority = tax_df.groupby(\"contig\")['ORFcaller'].agg(pd.Series.mode).to_frame()\n",
    "\n",
    "prodigal_seqs = ORFcaller_majority.query(\"ORFcaller == 'prodigal'\")\n",
    "\n",
    "\n",
    "\n",
    "if not prodigal_seqs.empty:\n",
    "    prodigal_file = \"/Users/michaeltisza/mike_tisza/sandbox/prodigal_seqs1.txt\"\n",
    "    if os.path.isfile(prodigal_file):\n",
    "        os.remove(prodigal_file)\n",
    "\n",
    "    for i in prodigal_seqs.index:\n",
    "\n",
    "        print(i, file = open(prodigal_file, \"a\"))\n",
    "\n",
    "\n",
    "phanotate_seqs = ORFcaller_majority.query(\"ORFcaller == 'phanotate'\")\n",
    "\n",
    "if not phanotate_seqs.empty:\n",
    "    phanotate_file = \"/Users/michaeltisza/mike_tisza/sandbox/phanotate_seqs1.txt\"\n",
    "    if os.path.isfile(phanotate_file):\n",
    "        os.remove(phanotate_file)\n",
    "\n",
    "    for i in phanotate_seqs.index:\n",
    "        print(i, file = open(phanotate_file, \"a\"))\n",
    "\n"
   ]
  },
  {
   "cell_type": "code",
   "execution_count": 9,
   "metadata": {},
   "outputs": [
    {
     "name": "stdout",
     "output_type": "stream",
     "text": [
      "52                                            d_Viruses\n",
      "33    d_Viruses;-_Duplodnaviria;k_Heunggongvirae;p_U...\n",
      "14    d_Viruses;-_Duplodnaviria;k_Heunggongvirae;p_U...\n",
      "65    d_Viruses;-_Monodnaviria;k_Shotokuvirae;p_Cres...\n",
      "73    d_Viruses;-_Varidnaviria;k_Bamfordvirae;p_Nucl...\n",
      "0     d_Viruses;-_Monodnaviria;k_Sangervirae;p_Phixv...\n",
      "Name: taxlineage, dtype: object\n"
     ]
    }
   ],
   "source": [
    "print(tax_df['taxlineage'])"
   ]
  }
 ],
 "metadata": {
  "kernelspec": {
   "display_name": "ct2_dev",
   "language": "python",
   "name": "python3"
  },
  "language_info": {
   "codemirror_mode": {
    "name": "ipython",
    "version": 3
   },
   "file_extension": ".py",
   "mimetype": "text/x-python",
   "name": "python",
   "nbconvert_exporter": "python",
   "pygments_lexer": "ipython3",
   "version": "3.11.4"
  },
  "orig_nbformat": 4
 },
 "nbformat": 4,
 "nbformat_minor": 2
}
