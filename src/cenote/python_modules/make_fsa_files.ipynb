{
 "cells": [
  {
   "cell_type": "code",
   "execution_count": 72,
   "metadata": {},
   "outputs": [],
   "source": [
    "from Bio import SeqIO\n",
    "from Bio.Seq import Seq\n",
    "from Bio.SeqRecord import SeqRecord\n",
    "from Bio.SeqFeature import SeqFeature, FeatureLocation\n",
    "import pandas as pd\n",
    "import re\n",
    "import os\n",
    "import random\n",
    "import string"
   ]
  },
  {
   "cell_type": "code",
   "execution_count": 60,
   "metadata": {},
   "outputs": [],
   "source": [
    "final_contig_file = \"/Users/michaeltisza/mike_tisza/sandbox/test_SRS_0803f/ct2_tmp/oriented_hallmark_contigs.pruned.fasta\"\n",
    "\n",
    "final_tax_file = \"/Users/michaeltisza/mike_tisza/sandbox/test_SRS_0803f/ct2_tmp/final_taxonomy/virus_taxonomy_summary.tsv\"\n",
    "\n",
    "#phanotate seqs\n",
    "phanotate_list_file = \"/Users/michaeltisza/mike_tisza/sandbox/test_SRS_0803f/ct2_tmp/hallmark_tax/phanotate_seqs1.txt\"\n",
    "\n",
    "#prodigal gcode table\n",
    "prodigal_list_file = \"/Users/michaeltisza/mike_tisza/sandbox/test_SRS_0803f/ct2_tmp/reORF/prod_split/contig_gcodes1.txt\"\n",
    "\n",
    "#repeat table\n",
    "repeat_file = \"/Users/michaeltisza/mike_tisza/sandbox/test_SRS_0803f/ct2_tmp/hallmark_contigs_terminal_repeat_summary.tsv\""
   ]
  },
  {
   "cell_type": "code",
   "execution_count": 61,
   "metadata": {},
   "outputs": [],
   "source": [
    "tax_call_df = pd.read_csv(final_tax_file, sep = \"\\t\")"
   ]
  },
  {
   "cell_type": "code",
   "execution_count": 62,
   "metadata": {},
   "outputs": [],
   "source": [
    "if os.path.isfile(phanotate_list_file) and os.path.getsize(phanotate_list_file) > 0:\n",
    "    phan_df = pd.read_csv(phanotate_list_file, header = None, names = ['contig'])\n",
    "    phan_df['gcode'] = 11\n",
    "else:\n",
    "    phan_df = pd.DataFrame()\n",
    "\n",
    "if os.path.isfile(prodigal_list_file) and os.path.getsize(prodigal_list_file) > 0:\n",
    "    prod_df = pd.read_csv(prodigal_list_file, header = None, sep = \"\\t\", names = ['contig', 'gcode'])\n",
    "else:\n",
    "    prod_df = pd.DataFrame()\n",
    "\n",
    "## combine phanotate and prodigal table\n",
    "gcode_list = []\n",
    "\n",
    "for df in phan_df, prod_df:\n",
    "    if not df.empty:\n",
    "        gcode_list.append(df)\n",
    "\n",
    "\n",
    "try:\n",
    "    gcode_df = pd.concat(gcode_list, ignore_index=True)\n",
    "except:\n",
    "    print(\"nope\")\n"
   ]
  },
  {
   "cell_type": "code",
   "execution_count": 63,
   "metadata": {},
   "outputs": [],
   "source": [
    "repeat_df = pd.read_csv(repeat_file, sep = \"\\t\")"
   ]
  },
  {
   "cell_type": "code",
   "execution_count": 79,
   "metadata": {},
   "outputs": [],
   "source": [
    "for seq_record in SeqIO.parse(final_contig_file, \"fasta\"):\n",
    "\n",
    "    randID = ''.join(random.choices(string.ascii_uppercase + string.digits, k=5))\n",
    "\n",
    "    if \"@\" in seq_record.id:\n",
    "\n",
    "        nameq = seq_record.id.split(\"@\")[0]\n",
    "        chunkq = seq_record.id.split(\"@\")[1]\n",
    "        try:\n",
    "            organism = tax_call_df.query(\"contig == @nameq & chunk_name == @chunkq\")['taxon'].agg(pd.Series.mode)[0]\n",
    "        except:\n",
    "            organism = \"unclassified virus\"\n",
    "\n",
    "        try:\n",
    "            lineage = tax_call_df.query(\"contig == @nameq & chunk_name == @chunkq\")['taxonomy_hierarchy'].agg(pd.Series.mode)[0]\n",
    "        except:\n",
    "            lineage = \"no lineage\"\n",
    "\n",
    "        gcode = gcode_df.query(\"contig == @nameq\")['gcode'].agg(pd.Series.mode)[0]\n",
    "\n",
    "        topology = \"linear\"\n",
    "    else:\n",
    "        try:\n",
    "            organism = tax_call_df.query(\"contig == @seq_record.id\")['taxon'].agg(pd.Series.mode)[0]\n",
    "        except:\n",
    "            organism = \"unclassified virus\"\n",
    "\n",
    "        try:\n",
    "            lineage = tax_call_df.query(\"contig == @seq_record.id\")['taxonomy_hierarchy'].agg(pd.Series.mode)[0]\n",
    "        except:\n",
    "            lineage = \"no lineage\"\n",
    "\n",
    "        gcode = gcode_df.query(\"contig == @seq_record.id\")['gcode'].agg(pd.Series.mode)[0]\n",
    "\n",
    "        top_str = repeat_df.query(\"contig == @seq_record.id\")['dtr_seq'].agg(pd.Series.mode)\n",
    "\n",
    "        if not top_str.empty:\n",
    "            topology = \"circular\"\n",
    "        else:\n",
    "            topology = \"linear\"\n",
    "\n",
    "    header = \">\" + str(seq_record.id) + \" [organism=\" + organism + \" sp. ct\" + randID + \"] [gcode=\" + str(gcode) + \\\n",
    "        \"] [topology=\" + topology + \"] [note: taxonomic lineage \" + lineage + \"]\" \n",
    "    \n",
    "    seq_output_file = os.path.join(\"/Users/michaeltisza/mike_tisza/sandbox/tmp/seqout\", str(seq_record.id) + \".fsa\")\n",
    "\n",
    "    print(header + \"\\n\" + seq_record.seq, file = open(seq_output_file, \"a\"))"
   ]
  },
  {
   "cell_type": "code",
   "execution_count": null,
   "metadata": {},
   "outputs": [],
   "source": [
    "\n"
   ]
  }
 ],
 "metadata": {
  "kernelspec": {
   "display_name": "ct2_dev",
   "language": "python",
   "name": "python3"
  },
  "language_info": {
   "codemirror_mode": {
    "name": "ipython",
    "version": 3
   },
   "file_extension": ".py",
   "mimetype": "text/x-python",
   "name": "python",
   "nbconvert_exporter": "python",
   "pygments_lexer": "ipython3",
   "version": "3.11.4"
  },
  "orig_nbformat": 4
 },
 "nbformat": 4,
 "nbformat_minor": 2
}
