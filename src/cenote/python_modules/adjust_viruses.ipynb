{
 "cells": [
  {
   "cell_type": "code",
   "execution_count": 1,
   "metadata": {},
   "outputs": [],
   "source": [
    "import os\n",
    "import re\n",
    "import sys\n",
    "import pandas as pd\n",
    "import glob\n",
    "import numpy as np\n",
    "\n",
    "import itertools\n",
    "from itertools import tee\n"
   ]
  },
  {
   "cell_type": "code",
   "execution_count": 4,
   "metadata": {},
   "outputs": [],
   "source": [
    "virus_coord_dir = \"/Users/u241374/mike_tisza/sandbox/ct2_b_caccae_f/ct2_tmp/assess_prune/indiv_seqs\"\n",
    "\n",
    "gene_annotation_file = \"/Users/u241374/mike_tisza/sandbox/ct2_b_caccae_f/ct2_tmp/assess_prune/contig_gene_annotation_summary.tsv\"\n",
    "\n",
    "oriented_contigs_file = \"/Users/u241374/mike_tisza/sandbox/ct2_b_caccae_f/ct2_tmp/oriented_hallmark_contigs.fasta\""
   ]
  },
  {
   "cell_type": "code",
   "execution_count": 8,
   "metadata": {},
   "outputs": [
    {
     "data": {
      "text/html": [
       "<div>\n",
       "<style scoped>\n",
       "    .dataframe tbody tr th:only-of-type {\n",
       "        vertical-align: middle;\n",
       "    }\n",
       "\n",
       "    .dataframe tbody tr th {\n",
       "        vertical-align: top;\n",
       "    }\n",
       "\n",
       "    .dataframe thead th {\n",
       "        text-align: right;\n",
       "    }\n",
       "</style>\n",
       "<table border=\"1\" class=\"dataframe\">\n",
       "  <thead>\n",
       "    <tr style=\"text-align: right;\">\n",
       "      <th></th>\n",
       "      <th>contig</th>\n",
       "      <th>chunk_start</th>\n",
       "      <th>chunk_stop</th>\n",
       "      <th>chunk_name</th>\n",
       "      <th>hallmark_count</th>\n",
       "    </tr>\n",
       "  </thead>\n",
       "  <tbody>\n",
       "    <tr>\n",
       "      <th>0</th>\n",
       "      <td>ct2_b_caccae_f1</td>\n",
       "      <td>1273382</td>\n",
       "      <td>1347154</td>\n",
       "      <td>Chunk_83</td>\n",
       "      <td>5</td>\n",
       "    </tr>\n",
       "    <tr>\n",
       "      <th>1</th>\n",
       "      <td>ct2_b_caccae_f1</td>\n",
       "      <td>1725318</td>\n",
       "      <td>1742123</td>\n",
       "      <td>Chunk_117</td>\n",
       "      <td>2</td>\n",
       "    </tr>\n",
       "    <tr>\n",
       "      <th>2</th>\n",
       "      <td>ct2_b_caccae_f1</td>\n",
       "      <td>2076488</td>\n",
       "      <td>2116229</td>\n",
       "      <td>Chunk_147</td>\n",
       "      <td>8</td>\n",
       "    </tr>\n",
       "    <tr>\n",
       "      <th>3</th>\n",
       "      <td>ct2_b_caccae_f1</td>\n",
       "      <td>4213532</td>\n",
       "      <td>4335480</td>\n",
       "      <td>Chunk_289</td>\n",
       "      <td>8</td>\n",
       "    </tr>\n",
       "  </tbody>\n",
       "</table>\n",
       "</div>"
      ],
      "text/plain": [
       "            contig  chunk_start  chunk_stop chunk_name  hallmark_count\n",
       "0  ct2_b_caccae_f1      1273382     1347154   Chunk_83               5\n",
       "1  ct2_b_caccae_f1      1725318     1742123  Chunk_117               2\n",
       "2  ct2_b_caccae_f1      2076488     2116229  Chunk_147               8\n",
       "3  ct2_b_caccae_f1      4213532     4335480  Chunk_289               8"
      ]
     },
     "execution_count": 8,
     "metadata": {},
     "output_type": "execute_result"
    }
   ],
   "source": [
    "try:\n",
    "\n",
    "    coord_files = glob.glob(os.path.join(virus_coord_dir, \"*.viruses.tsv\"))\n",
    "\n",
    "    df_from_each_coord = (pd.read_csv(coord, sep = \"\\t\", header = None,\n",
    "                                    names = [\"contig\", \"chunk_start\", \"chunk_stop\", \n",
    "                                             \"chunk_name\", \"hallmark_count\"])\n",
    "                                    for coord in coord_files)\n",
    "    chunk_coord_df = pd.concat(df_from_each_coord, ignore_index=True)\n",
    "\n",
    "    #chunk_coord_df.head()\n",
    "\n",
    "except:\n",
    "    print(\"no chunk coords\")\n",
    "\n",
    "chunk_coord_df.head()"
   ]
  }
 ],
 "metadata": {
  "kernelspec": {
   "display_name": "ct2_dev",
   "language": "python",
   "name": "python3"
  },
  "language_info": {
   "codemirror_mode": {
    "name": "ipython",
    "version": 3
   },
   "file_extension": ".py",
   "mimetype": "text/x-python",
   "name": "python",
   "nbconvert_exporter": "python",
   "pygments_lexer": "ipython3",
   "version": "3.11.4"
  },
  "orig_nbformat": 4
 },
 "nbformat": 4,
 "nbformat_minor": 2
}
