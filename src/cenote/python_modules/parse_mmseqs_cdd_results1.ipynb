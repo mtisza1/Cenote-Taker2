{
 "cells": [
  {
   "cell_type": "code",
   "execution_count": 1,
   "metadata": {},
   "outputs": [],
   "source": [
    "import pandas as pd"
   ]
  },
  {
   "cell_type": "code",
   "execution_count": 2,
   "metadata": {},
   "outputs": [],
   "source": [
    "mmseqs2_CDD_search_df = pd.read_csv(\"/Users/u241374/mike_tisza/sandbox/result.m8\",\n",
    "                                    sep = \"\\t\", header = None,\n",
    "                                    names = [\"query\", \"target\", \"sequence_identity\", \"align_length\",\n",
    "                                             \"num_mismatches\", \"num_gaps\", \"qstart\", \"qend\", \"tstart\",\n",
    "                                             \"tend\", \"evalue\", \"bitscore\"])\\\n",
    "    .sort_values('evalue').drop_duplicates('query')"
   ]
  },
  {
   "cell_type": "code",
   "execution_count": 3,
   "metadata": {},
   "outputs": [],
   "source": [
    "cdd_annotation_table = pd.read_csv(\"/Users/u241374/mike_tisza/sandbox/cddid_all.tbl\",\n",
    "                                    sep = \"\\t\", header = None,\n",
    "                                    names = [\"cdd_num\", \"cdd_accession\", \"shortname\", \"description\",\n",
    "                                             \"other_num\"])"
   ]
  },
  {
   "cell_type": "code",
   "execution_count": 6,
   "metadata": {},
   "outputs": [],
   "source": [
    "mmseqs2_CDD_annotation_df = mmseqs2_CDD_search_df.merge(cdd_annotation_table, \n",
    "                                                        left_on = \"target\", \n",
    "                                                        right_on = \"cdd_accession\",\n",
    "                                                        how = \"left\")\\\n",
    "                                                        .sort_values('query')"
   ]
  }
 ],
 "metadata": {
  "kernelspec": {
   "display_name": "ct2_dev",
   "language": "python",
   "name": "python3"
  },
  "language_info": {
   "codemirror_mode": {
    "name": "ipython",
    "version": 3
   },
   "file_extension": ".py",
   "mimetype": "text/x-python",
   "name": "python",
   "nbconvert_exporter": "python",
   "pygments_lexer": "ipython3",
   "version": "3.11.4"
  },
  "orig_nbformat": 4
 },
 "nbformat": 4,
 "nbformat_minor": 2
}
